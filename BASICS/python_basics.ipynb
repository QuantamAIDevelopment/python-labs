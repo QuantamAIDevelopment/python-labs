{
 "cells": [
  {
   "cell_type": "markdown",
   "metadata": {},
   "source": [
    "# Lesson 1.2: Python Basics\n",
    "## Topics Covered:\n",
    "- Syntax and Semantics\n",
    "- Variables and Data Types\n",
    "- Basic Operators (Arithmetic, Comparison, Logical)\n"
   ]
  },
  {
   "cell_type": "markdown",
   "metadata": {},
   "source": [
    "## 1. Syntax and Semantics\n",
    "\n",
    "**Question 1:** Write a Python program to print \"Hello, World!\"."
   ]
  },
  {
   "cell_type": "code",
   "execution_count": 9,
   "metadata": {},
   "outputs": [
    {
     "name": "stdout",
     "output_type": "stream",
     "text": [
      "Hello World\n"
     ]
    }
   ],
   "source": [
    "print(\"Hello World\")"
   ]
  },
  {
   "cell_type": "markdown",
   "metadata": {},
   "source": [
    "**Question 2:** Write a Python program that takes a user input and prints it."
   ]
  },
  {
   "cell_type": "code",
   "execution_count": null,
   "metadata": {},
   "outputs": [],
   "source": [
    "first=input(\"print your name\")\n",
    "print(first)"
   ]
  },
  {
   "cell_type": "markdown",
   "metadata": {},
   "source": [
    "Question 3: Write a Python program to check if a number is positive, negative, or zero."
   ]
  },
  {
   "cell_type": "code",
   "execution_count": null,
   "metadata": {},
   "outputs": [
    {
     "name": "stdout",
     "output_type": "stream",
     "text": [
      "the number is negative\n"
     ]
    }
   ],
   "source": [
    "num=-3\n",
    "if num > 0:\n",
    "   print(\"the number is positive\")\n",
    "elif num < 0:\n",
    "   print(\"the number is negative\")\n",
    "else:\n",
    "  print(\"the number is zero\")\n"
   ]
  },
  {
   "cell_type": "markdown",
   "metadata": {},
   "source": [
    "**Question 4:** Write a Python program to find the largest of three numbers."
   ]
  },
  {
   "cell_type": "code",
   "execution_count": null,
   "metadata": {},
   "outputs": [
    {
     "name": "stdout",
     "output_type": "stream",
     "text": [
      "the largest number is:4.0\n"
     ]
    }
   ],
   "source": [
    "def find_largest(a,b,c):\n",
    "    return max(a,b,c)\n",
    "a=float(input(\"enter first number:\"))\n",
    "b=float(input(\"enter second number:\"))\n",
    "c=float(input(\"enter third number:\"))\n",
    "largest=find_largest(a,b,c)\n",
    "print(f\"the largest number is:{largest}\")"
   ]
  },
  {
   "cell_type": "markdown",
   "metadata": {},
   "source": [
    "**Question 5:** Write a Python program to calculate the factorial of a number."
   ]
  },
  {
   "cell_type": "code",
   "execution_count": null,
   "metadata": {},
   "outputs": [
    {
     "name": "stdout",
     "output_type": "stream",
     "text": [
      "factorial of given 4 is 24\n"
     ]
    }
   ],
   "source": [
    "def factorial_recursive(n):\n",
    "    if n==0 or n==1:\n",
    "        return 1\n",
    "    else:\n",
    "        return n* factorial_recursive(n-1)\n",
    "\n",
    "number = int(input(\"Enter the number: \"))\n",
    "fact=factorial_recursive(number)\n",
    "print(f\"factorial of given {number} is {fact}\")"
   ]
  },
  {
   "cell_type": "markdown",
   "metadata": {},
   "source": [
    "## 2. Variables and Data Types\n",
    "\n",
    "**Question 6:** Create variables of different data types: integer, float, string, and boolean. Print their values and types."
   ]
  },
  {
   "cell_type": "code",
   "execution_count": null,
   "metadata": {},
   "outputs": [
    {
     "name": "stdout",
     "output_type": "stream",
     "text": [
      "10\n",
      "20.0\n",
      "bhavani\n",
      "True\n"
     ]
    }
   ],
   "source": [
    "int=10\n",
    "float=20.0\n",
    "string=\"bhavani\"\n",
    "bool=True\n",
    "print(int)\n",
    "print(float)\n",
    "print(string)\n",
    "print(bool)"
   ]
  },
  {
   "cell_type": "markdown",
   "metadata": {},
   "source": [
    "Question 7: Write a Python program to swap the values of two variables."
   ]
  },
  {
   "cell_type": "code",
   "execution_count": null,
   "metadata": {},
   "outputs": [
    {
     "name": "stdout",
     "output_type": "stream",
     "text": [
      "5 10\n",
      "10 5\n"
     ]
    }
   ],
   "source": [
    "a=5\n",
    "b=10\n",
    "print(a,b)\n",
    "a,b=b,a\n",
    "print(a,b)"
   ]
  },
  {
   "cell_type": "markdown",
   "metadata": {},
   "source": [
    "Question 8: Write a Python program to convert Celsius to Fahrenheit."
   ]
  },
  {
   "cell_type": "code",
   "execution_count": null,
   "metadata": {},
   "outputs": [
    {
     "name": "stdout",
     "output_type": "stream",
     "text": [
      "<function celsius_farenheit at 0x00000228B9393F40> is equal to25 \n"
     ]
    }
   ],
   "source": [
    "def celsius_farenheit(celsius):\n",
    "    return(celsius*9/5)+32\n",
    "celsius=25\n",
    "farenheit=celsius_farenheit(celsius)\n",
    "print(f\"{celsius_farenheit} is equal to{celsius} \")\n"
   ]
  },
  {
   "cell_type": "markdown",
   "metadata": {},
   "source": [
    "**Question 9:** Write a Python program to concatenate two strings."
   ]
  },
  {
   "cell_type": "code",
   "execution_count": null,
   "metadata": {},
   "outputs": [
    {
     "name": "stdout",
     "output_type": "stream",
     "text": [
      "bhavanibharathi\n"
     ]
    }
   ],
   "source": [
    "string1=\"bhavani\"\n",
    "string2=\"bharathi\"\n",
    "print(string1+string2)"
   ]
  },
  {
   "cell_type": "markdown",
   "metadata": {},
   "source": [
    "**Question 10:** Write a Python program to check if a variable is of a specific data type."
   ]
  },
  {
   "cell_type": "code",
   "execution_count": null,
   "metadata": {},
   "outputs": [
    {
     "name": "stdout",
     "output_type": "stream",
     "text": [
      "The variable is of type string.\n"
     ]
    }
   ],
   "source": [
    "def check_data_type(variable, data_type):\n",
    "    if type(variable) == data_type:\n",
    "        return True\n",
    "    else:\n",
    "        return False\n",
    "\n",
    "# Example usage\n",
    "variable = input(\"Enter a value: \")\n",
    "\n",
    "# Checking the data type\n",
    "if check_data_type(variable, str):\n",
    "    print(\"The variable is of type string.\")\n",
    "elif check_data_type(variable, int):\n",
    "    print(\"The variable is of type integer.\")\n",
    "elif check_data_type(variable, float):\n",
    "    print(\"The variable is of type float.\")\n",
    "else:\n",
    "    print(\"The variable is of a different type.\")\n"
   ]
  },
  {
   "cell_type": "markdown",
   "metadata": {},
   "source": [
    "## 3. Basic Operators (Arithmetic, Comparison, Logical)\n",
    "\n",
    "**Question 11:** Write a Python program to perform arithmetic operations: addition, subtraction, multiplication, and division."
   ]
  },
  {
   "cell_type": "code",
   "execution_count": null,
   "metadata": {},
   "outputs": [
    {
     "name": "stdout",
     "output_type": "stream",
     "text": [
      "25 -5 150 0.6666666666666666\n"
     ]
    }
   ],
   "source": [
    "a=10\n",
    "b=15\n",
    "var1=a+b\n",
    "var2=a-b\n",
    "var3=a*b\n",
    "var4=a/b\n",
    "print(var1,var2,var3,var4)"
   ]
  },
  {
   "cell_type": "markdown",
   "metadata": {},
   "source": [
    "Question 12:Write a Python program to demonstrate comparison operators: equal to, not equal to, greater than, less than."
   ]
  },
  {
   "cell_type": "code",
   "execution_count": null,
   "metadata": {},
   "outputs": [
    {
     "name": "stdout",
     "output_type": "stream",
     "text": [
      "False\n",
      "True\n",
      "True\n",
      "False\n"
     ]
    }
   ],
   "source": [
    "a=5\n",
    "b=10\n",
    "print(a==b)\n",
    "print(a!=b)\n",
    "print(a<b)\n",
    "print(a>b)"
   ]
  },
  {
   "cell_type": "markdown",
   "metadata": {},
   "source": [
    "Write a Python program to demonstrate logical operators: and, or, not.**Question 13:** "
   ]
  },
  {
   "cell_type": "code",
   "execution_count": 2,
   "metadata": {},
   "outputs": [
    {
     "name": "stdout",
     "output_type": "stream",
     "text": [
      " true and false:False\n",
      "true and true:False\n",
      "true or false:True\n",
      "false or false:True\n",
      "not true:False\n",
      "not false:True\n"
     ]
    }
   ],
   "source": [
    "def logicals():\n",
    "    a=True\n",
    "    b =False\n",
    "    print(f\" true and false:{a and b}\")   \n",
    "    print(f\"true and true:{a and b}\")\n",
    "    print(f\"true or false:{a or b}\")\n",
    "    print(f\"false or false:{a or b}\")\n",
    "    print(f\"not true:{not a}\")\n",
    "    print(f\"not false:{not b}\")\n",
    "logicals()\n"
   ]
  },
  {
   "cell_type": "markdown",
   "metadata": {},
   "source": [
    "**Question 14:** Write a Python program to calculate the square of a number."
   ]
  },
  {
   "cell_type": "code",
   "execution_count": 14,
   "metadata": {},
   "outputs": [
    {
     "name": "stdout",
     "output_type": "stream",
     "text": [
      "the square of 4.0 is 16.0\n"
     ]
    }
   ],
   "source": [
    "def square_numbers(num):\n",
    "    return num**2\n",
    "number = 4.0\n",
    "result = square_numbers(number)\n",
    "\n",
    "print(f\"the square of {number} is {result}\")\n"
   ]
  },
  {
   "cell_type": "markdown",
   "metadata": {},
   "source": [
    "**Question 15:** Write a Python program to check if a number is even or odd."
   ]
  },
  {
   "cell_type": "code",
   "execution_count": 17,
   "metadata": {},
   "outputs": [
    {
     "name": "stdout",
     "output_type": "stream",
     "text": [
      "the number7 is odd.\n"
     ]
    }
   ],
   "source": [
    "def check_even_odd( num):\n",
    "    if num % 2==0:\n",
    "        return \"even\"\n",
    "    else:\n",
    "        return \"odd\"\n",
    "numbers=7\n",
    "result=check_even_odd(numbers)\n",
    "print(f\"the number{numbers} is {result}.\")"
   ]
  },
  {
   "cell_type": "markdown",
   "metadata": {},
   "source": [
    "**Question 16:** Write a Python program to find the sum of the first n natural numbers."
   ]
  },
  {
   "cell_type": "code",
   "execution_count": 20,
   "metadata": {},
   "outputs": [
    {
     "name": "stdout",
     "output_type": "stream",
     "text": [
      "the sum natural numbers 10 is 55\n"
     ]
    }
   ],
   "source": [
    "def sum_natural_numbers(n):\n",
    "    return n* (n+1) //2\n",
    "n=10\n",
    "result=sum_natural_numbers(n)\n",
    "print(f\"the sum natural numbers {n} is {result}\")"
   ]
  },
  {
   "cell_type": "code",
   "execution_count": null,
   "metadata": {},
   "outputs": [],
   "source": []
  },
  {
   "cell_type": "markdown",
   "metadata": {},
   "source": [
    "**Question 17:** Write a Python program to check if a year is a leap year."
   ]
  },
  {
   "cell_type": "code",
   "execution_count": 21,
   "metadata": {},
   "outputs": [
    {
     "name": "stdout",
     "output_type": "stream",
     "text": [
      "2000it is a leap year\n"
     ]
    }
   ],
   "source": [
    "def leap_year(year):\n",
    "    if(year %4 == 0 and year % 100 !=0) or(year % 400==0):\n",
    "      return \"false\"\n",
    "    else:\n",
    "      return False\n",
    "    \n",
    "year=int(input(\"enter a year: \"))\n",
    "if leap_year(year):\n",
    "   print(f\"{year}it is a leap year\")\n",
    "else:\n",
    "   print(f\"{year}it is not a leap year\")"
   ]
  },
  {
   "cell_type": "markdown",
   "metadata": {},
   "source": [
    "**Question 18:** Write a Python program to reverse a string."
   ]
  },
  {
   "cell_type": "code",
   "execution_count": 25,
   "metadata": {},
   "outputs": [
    {
     "name": "stdout",
     "output_type": "stream",
     "text": [
      "revversed string: inavahb\n"
     ]
    }
   ],
   "source": [
    "def reverse_string(s):\n",
    "    return s[::-1]\n",
    "string = input(\"enter a string\")\n",
    "reverse_string=reverse_string(string)\n",
    "print(\"revversed string:\",reverse_string)"
   ]
  },
  {
   "cell_type": "markdown",
   "metadata": {},
   "source": [
    "**Question 19:** Write a Python program to check if a string is a palindrome."
   ]
  },
  {
   "cell_type": "code",
   "execution_count": null,
   "metadata": {},
   "outputs": [
    {
     "name": "stdout",
     "output_type": "stream",
     "text": [
      "Not palindrome\n"
     ]
    }
   ],
   "source": [
    "def palindrome(s):\n",
    "    return s[::-1]\n",
    "\n",
    "str = input(\"enter a string\")\n",
    "reverse_string=palindrome(string)\n",
    "if str == reverse_string:\n",
    "    print(\"Palindrome\")\n",
    "else:\n",
    "    print(\"Not palindrome\")"
   ]
  },
  {
   "cell_type": "markdown",
   "metadata": {},
   "source": [
    "Question 20:** Write a Python program to sort a list of numbers in ascending order"
   ]
  },
  {
   "cell_type": "code",
   "execution_count": null,
   "metadata": {},
   "outputs": [
    {
     "name": "stdout",
     "output_type": "stream",
     "text": [
      "sorted list: [1, 2, 3, 4, 5]\n"
     ]
    }
   ],
   "source": [
    "def sort_numbers(numbers):\n",
    "    return sorted(numbers)\n",
    "numbers=[5,4,3,2,1]\n",
    "sorted_numbers=sort_numbers(numbers)\n",
    "print(f\"sorted list:\",sorted_numbers\n",
    "      )"
   ]
  },
  {
   "cell_type": "markdown",
   "metadata": {},
   "source": []
  }
 ],
 "metadata": {
  "kernelspec": {
   "display_name": "venv",
   "language": "python",
   "name": "python3"
  },
  "language_info": {
   "codemirror_mode": {
    "name": "ipython",
    "version": 3
   },
   "file_extension": ".py",
   "mimetype": "text/x-python",
   "name": "python",
   "nbconvert_exporter": "python",
   "pygments_lexer": "ipython3",
   "version": "3.10.0"
  }
 },
 "nbformat": 4,
 "nbformat_minor": 4
}
