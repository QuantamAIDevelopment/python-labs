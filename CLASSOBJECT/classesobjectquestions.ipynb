{
 "cells": [
  {
   "cell_type": "markdown",
   "id": "69b98003",
   "metadata": {},
   "source": []
  },
  {
   "cell_type": "markdown",
   "metadata": {},
   "source": [
    "# Module: Classes and Objects Assignments\n"
   ]
  },
  {
   "cell_type": "markdown",
   "id": "76fe93bc",
   "metadata": {},
   "source": [
    "## Lesson: Creating and Working with Classes and Objects\n",
    "### Assignment 1: Basic Class and Object Creation\n",
    "\n",
    "Create a class named `Car` with attributes `make`, `model`, and `year`. Create an object of the class and print its attributes.\n",
    "\n",
    "### Assignment 2: Methods in Class\n",
    "\n",
    "Add a method named `start_engine` to the `Car` class that prints a message when the engine starts. Create an object of the class and call the method.\n",
    "\n",
    "### Assignment 3: Class with Constructor\n",
    "\n",
    "Create a class named `Student` with attributes `name` and `age`. Use a constructor to initialize these attributes. Create an object of the class and print its attributes.\n",
    "\n",
    "### Assignment 4: Class with Private Attributes\n",
    "\n",
    "Create a class named `BankAccount` with private attributes `account_number` and `balance`. Add methods to deposit and withdraw money, and to check the balance. Create an object of the class and perform some operations.\n",
    "\n",
    "### Assignment 5: Class Inheritance\n",
    "\n",
    "Create a base class named `Person` with attributes `name` and `age`. Create a derived class named `Employee` that inherits from `Person` and adds an attribute `employee_id`. Create an object of the derived class and print its attributes.\n",
    "\n",
    "### Assignment 6: Method Overriding\n",
    "\n",
    "In the `Employee` class, override the `__str__` method to return a string representation of the object. Create an object of the class and print it.\n",
    "\n",
    "### Assignment 7: Class Composition\n",
    "\n",
    "Create a class named `Address` with attributes `street`, `city`, and `zipcode`. Create a class named `Person` that has an `Address` object as an attribute. Create an object of the `Person` class and print its address.\n",
    "\n",
    "### Assignment 8: Class with Class Variables\n",
    "\n",
    "Create a class named `Counter` with a class variable `count`. Each time an object is created, increment the count. Add a method to get the current count. Create multiple objects and print the count.\n",
    "\n",
    "### Assignment 9: Static Methods\n",
    "\n",
    "Create a class named `MathOperations` with a static method to calculate the square root of a number. Call the static method without creating an object.\n",
    "\n",
    "### Assignment 10: Class with Properties\n",
    "\n",
    "Create a class named `Rectangle` with private attributes `length` and `width`. Use properties to get and set these attributes. Create an object of the class and test the properties.\n",
    "\n",
    "### Assignment 11: Abstract Base Class\n",
    "\n",
    "Create an abstract base class named `Shape` with an abstract method `area`. Create derived classes `Circle` and `Square` that implement the `area` method. Create objects of the derived classes and call the `area` method.\n",
    "\n",
    "### Assignment 12: Operator Overloading\n",
    "\n",
    "Create a class named `Vector` with attributes `x` and `y`. Overload the `+` operator to add two `Vector` objects. Create objects of the class and test the operator overloading.\n",
    "\n",
    "### Assignment 13: Class with Custom Exception\n",
    "\n",
    "Create a custom exception named `InsufficientBalanceError`. In the `BankAccount` class, raise this exception when a withdrawal amount is greater than the balance. Handle the exception and print an appropriate message.\n",
    "\n",
    "### Assignment 14: Class with Context Manager\n",
    "\n",
    "Create a class named `FileManager` that implements the context manager protocol to open and close a file. Use this class to read the contents of a file.\n",
    "\n",
    "### Assignment 15: Chaining Methods\n",
    "\n",
    "e method calls.Create a class named `Calculator` with methods to add, subtract, multiply, and divide. Each method should return the object itself to allow method chaining. Create an object and chain multipl"
   ]
  },
  {
   "cell_type": "code",
   "execution_count": null,
   "id": "39db61e6",
   "metadata": {},
   "outputs": [],
   "source": []
  },
  {
   "cell_type": "code",
   "execution_count": 23,
   "id": "33ffb62b",
   "metadata": {},
   "outputs": [
    {
     "name": "stdout",
     "output_type": "stream",
     "text": [
      "Car Info: 2022 Toyota Camry\n"
     ]
    }
   ],
   "source": [
    "class Car:\n",
    "    def __init__(self, make, model, year):\n",
    "        self.make = make\n",
    "        self.model = model\n",
    "        self.year = year\n",
    "\n",
    "    def display_info(self):\n",
    "        print(f\"Car Info: {self.year} {self.make} {self.model}\")\n",
    "\n",
    "my_car = Car(\"Toyota\", \"Camry\", 2022)\n",
    "my_car.display_info()\n"
   ]
  },
  {
   "cell_type": "code",
   "execution_count": 2,
   "id": "daefd048",
   "metadata": {},
   "outputs": [
    {
     "name": "stdout",
     "output_type": "stream",
     "text": [
      "The engine of Toyota Corolla is now started.\n"
     ]
    }
   ],
   "source": [
    "class Car:\n",
    "    def __init__(self, brand, model):\n",
    "        self.brand = brand\n",
    "        self.model = model\n",
    "\n",
    "    def start_engine(self):\n",
    "        print(f\"The engine of {self.brand} {self.model} is now started.\")\n",
    "\n",
    "# Create an object of the Car class\n",
    "my_car = Car(\"Toyota\", \"Corolla\")\n",
    "\n",
    "# Call the start_engine method\n",
    "my_car.start_engine()\n"
   ]
  },
  {
   "cell_type": "code",
   "execution_count": 20,
   "id": "37776dc6",
   "metadata": {},
   "outputs": [
    {
     "name": "stdout",
     "output_type": "stream",
     "text": [
      "Student Name: Alice\n",
      "Student Age: 20\n"
     ]
    }
   ],
   "source": [
    "class Student:\n",
    "    def __init__(self, name, age):\n",
    "        self.name = name\n",
    "        self.age = age\n",
    "student1 = Student(\"Alice\", 20)\n",
    "print(f\"Student Name: {student1.name}\")\n",
    "print(f\"Student Age: {student1.age}\")\n"
   ]
  },
  {
   "cell_type": "code",
   "execution_count": 23,
   "id": "78f0ca3a",
   "metadata": {},
   "outputs": [
    {
     "name": "stdout",
     "output_type": "stream",
     "text": [
      "Deposited $200. New balance: $700\n",
      "Withdrew $150. New balance: $550\n",
      "Account Balance: $550\n"
     ]
    }
   ],
   "source": [
    "class BankAccount:\n",
    "    def __init__(self, account_number, balance=0.0):\n",
    "        self.__account_number = account_number  # Private attribute\n",
    "        self.__balance = balance  # Private attribute\n",
    "\n",
    "    def deposit(self, amount):\n",
    "        if amount > 0:\n",
    "            self.__balance += amount\n",
    "            print(f\"Deposited ${amount}. New balance: ${self.__balance}\")\n",
    "        else:\n",
    "            print(\"Deposit amount must be positive.\")\n",
    "\n",
    "    def withdraw(self, amount):\n",
    "        if 0 < amount <= self.__balance:\n",
    "            self.__balance -= amount\n",
    "            print(f\"Withdrew ${amount}. New balance: ${self.__balance}\")\n",
    "        else:\n",
    "            print(\"Insufficient funds or invalid amount.\")\n",
    "\n",
    "    def check_balance(self):\n",
    "        print(f\"Account Balance: ${self.__balance}\")\n",
    "\n",
    "# Create an object of BankAccount\n",
    "my_account = BankAccount(\"123456789\", 500)\n",
    "\n",
    "# Perform some operations\n",
    "my_account.deposit(200)\n",
    "my_account.withdraw(150)\n",
    "my_account.check_balance()\n"
   ]
  },
  {
   "cell_type": "code",
   "execution_count": 1,
   "id": "12da89dc",
   "metadata": {},
   "outputs": [
    {
     "name": "stdout",
     "output_type": "stream",
     "text": [
      "Name: Alice\n",
      "Age: 30\n",
      "Employee ID: E12345\n"
     ]
    }
   ],
   "source": [
    "# Base class\n",
    "class Person:\n",
    "    def __init__(self, name, age):\n",
    "        self.name = name\n",
    "        self.age = age\n",
    "\n",
    "# Derived class\n",
    "class Employee(Person):\n",
    "    def __init__(self, name, age, employee_id):\n",
    "        super().__init__(name, age)  # Call the constructor of the base class\n",
    "        self.employee_id = employee_id\n",
    "\n",
    "# Create an object of the derived class\n",
    "employee = Employee(\"Alice\", 30, \"E12345\")\n",
    "\n",
    "# Print the attributes\n",
    "print(\"Name:\", employee.name)\n",
    "print(\"Age:\", employee.age)\n",
    "print(\"Employee ID:\", employee.employee_id)\n"
   ]
  },
  {
   "cell_type": "code",
   "execution_count": 2,
   "id": "7d693586",
   "metadata": {},
   "outputs": [
    {
     "name": "stdout",
     "output_type": "stream",
     "text": [
      "Address: 123 Main St, Springfield, 12345\n"
     ]
    }
   ],
   "source": [
    "# Address class\n",
    "class Address:\n",
    "    def __init__(self, street, city, zipcode):\n",
    "        self.street = street\n",
    "        self.city = city\n",
    "        self.zipcode = zipcode\n",
    "\n",
    "    def __str__(self):\n",
    "        return f\"{self.street}, {self.city}, {self.zipcode}\"\n",
    "\n",
    "# Person class with Address as an attribute\n",
    "class Person:\n",
    "    def __init__(self, name, age, address):\n",
    "        self.name = name\n",
    "        self.age = age\n",
    "        self.address = address  # address is an Address object\n",
    "\n",
    "    def print_address(self):\n",
    "        print(\"Address:\", self.address)\n",
    "\n",
    "# Create Address object\n",
    "addr = Address(\"123 Main St\", \"Springfield\", \"12345\")\n",
    "\n",
    "# Create Person object with Address\n",
    "person = Person(\"John Doe\", 40, addr)\n",
    "\n",
    "# Print the person's address\n",
    "person.print_address()\n"
   ]
  },
  {
   "cell_type": "code",
   "execution_count": 3,
   "id": "7ab8a14c",
   "metadata": {},
   "outputs": [
    {
     "name": "stdout",
     "output_type": "stream",
     "text": [
      "Number of Counter objects created: 3\n"
     ]
    }
   ],
   "source": [
    "# Counter class\n",
    "class Counter:\n",
    "    count = 0  # Class variable\n",
    "\n",
    "    def __init__(self):\n",
    "        Counter.count += 1  # Increment count when a new object is created\n",
    "\n",
    "    @classmethod\n",
    "    def get_count(cls):\n",
    "        return cls.count  # Return current count\n",
    "\n",
    "# Create multiple objects\n",
    "obj1 = Counter()\n",
    "obj2 = Counter()\n",
    "obj3 = Counter()\n",
    "\n",
    "# Print the current count\n",
    "print(\"Number of Counter objects created:\", Counter.get_count())\n"
   ]
  },
  {
   "cell_type": "code",
   "execution_count": 4,
   "id": "6e0c85e3",
   "metadata": {},
   "outputs": [
    {
     "name": "stdout",
     "output_type": "stream",
     "text": [
      "Square root: 5.0\n"
     ]
    }
   ],
   "source": [
    "import math\n",
    "\n",
    "# MathOperations class\n",
    "class MathOperations:\n",
    "    @staticmethod\n",
    "    def square_root(number):\n",
    "        return math.sqrt(number)\n",
    "\n",
    "# Call the static method without creating an object\n",
    "result = MathOperations.square_root(25)\n",
    "\n",
    "# Print the result\n",
    "print(\"Square root:\", result)\n"
   ]
  },
  {
   "cell_type": "code",
   "execution_count": 12,
   "id": "c0bedfc8",
   "metadata": {},
   "outputs": [
    {
     "name": "stdout",
     "output_type": "stream",
     "text": [
      "Length: 10\n",
      "Width: 5\n",
      "Area: 50\n",
      "\n",
      "After updating dimensions:\n",
      "Length: 15\n",
      "Width: 7\n",
      "Area: 105\n"
     ]
    }
   ],
   "source": [
    "# Rectangle class\n",
    "class Rectangle:\n",
    "    def __init__(self, length, width):\n",
    "        self.__length = length  # Private attribute\n",
    "        self.__width = width    # Private attribute\n",
    "\n",
    "    # Getter for length\n",
    "    @property\n",
    "    def length(self):\n",
    "        return self.__length\n",
    "\n",
    "    # Setter for length\n",
    "    @length.setter\n",
    "    def length(self, value):\n",
    "        if value > 0:\n",
    "            self.__length = value\n",
    "        else:\n",
    "            raise ValueError(\"Length must be positive.\")\n",
    "\n",
    "    # Getter for width\n",
    "    @property\n",
    "    def width(self):\n",
    "        return self.__width\n",
    "\n",
    "    # Setter for width\n",
    "    @width.setter\n",
    "    def width(self, value):\n",
    "        if value > 0:\n",
    "            self.__width = value\n",
    "        else:\n",
    "            raise ValueError(\"Width must be positive.\")\n",
    "\n",
    "    def area(self):\n",
    "        return self.__length * self.__width\n",
    "\n",
    "# Create an object and test the properties\n",
    "rect = Rectangle(10, 5)\n",
    "\n",
    "# Accessing properties\n",
    "print(\"Length:\", rect.length)\n",
    "print(\"Width:\", rect.width)\n",
    "print(\"Area:\", rect.area())\n",
    "\n",
    "# Modifying properties\n",
    "rect.length = 15\n",
    "rect.width = 7\n",
    "\n",
    "print(\"\\nAfter updating dimensions:\")\n",
    "print(\"Length:\", rect.length)\n",
    "print(\"Width:\", rect.width)\n",
    "print(\"Area:\", rect.area())\n"
   ]
  },
  {
   "cell_type": "code",
   "execution_count": null,
   "id": "84a04fdf",
   "metadata": {},
   "outputs": [],
   "source": []
  },
  {
   "cell_type": "code",
   "execution_count": 15,
   "id": "445b6aaf",
   "metadata": {},
   "outputs": [
    {
     "name": "stdout",
     "output_type": "stream",
     "text": [
      "Area of Circle: 78.53981633974483\n",
      "Area of Square: 16\n"
     ]
    }
   ],
   "source": [
    "from abc import ABC, abstractmethod\n",
    "import math\n",
    "\n",
    "# Abstract base class\n",
    "class Shape(ABC):\n",
    "    @abstractmethod\n",
    "    def area(self):\n",
    "        pass  # Abstract method\n",
    "\n",
    "# Derived class: Circle\n",
    "class Circle(Shape):\n",
    "    def __init__(self, radius):\n",
    "        self.radius = radius\n",
    "\n",
    "    def area(self):\n",
    "        return math.pi * self.radius ** 2\n",
    "\n",
    "# Derived class: Square\n",
    "class Square(Shape):\n",
    "    def __init__(self, side):\n",
    "        self.side = side\n",
    "\n",
    "    def area(self):\n",
    "        return self.side ** 2\n",
    "\n",
    "# Create objects of derived classes\n",
    "circle = Circle(5)\n",
    "square = Square(4)\n",
    "\n",
    "# Call the area method\n",
    "print(\"Area of Circle:\", circle.area())\n",
    "print(\"Area of Square:\", square.area())\n"
   ]
  },
  {
   "cell_type": "code",
   "execution_count": 16,
   "id": "28aa9487",
   "metadata": {},
   "outputs": [
    {
     "name": "stdout",
     "output_type": "stream",
     "text": [
      "v1: Vector(2, 3)\n",
      "v2: Vector(4, 5)\n",
      "v1 + v2 = Vector(6, 8)\n"
     ]
    }
   ],
   "source": [
    "# Vector class\n",
    "class Vector:\n",
    "    def __init__(self, x, y):\n",
    "        self.x = x\n",
    "        self.y = y\n",
    "\n",
    "    # Overload the + operator\n",
    "    def __add__(self, other):\n",
    "        if isinstance(other, Vector):\n",
    "            return Vector(self.x + other.x, self.y + other.y)\n",
    "        return NotImplemented\n",
    "\n",
    "    def __str__(self):\n",
    "        return f\"Vector({self.x}, {self.y})\"\n",
    "\n",
    "# Create Vector objects\n",
    "v1 = Vector(2, 3)\n",
    "v2 = Vector(4, 5)\n",
    "# Add the vectors\n",
    "v3 = v1 + v2\n",
    "\n",
    "# Print the result\n",
    "print(\"v1:\", v1)\n",
    "print(\"v2:\", v2)\n",
    "print(\"v1 + v2 =\", v3)\n",
    "\n"
   ]
  },
  {
   "cell_type": "code",
   "execution_count": 19,
   "id": "466cf950",
   "metadata": {},
   "outputs": [
    {
     "name": "stdout",
     "output_type": "stream",
     "text": [
      "Error: Cannot withdraw 700. Available balance is 500.\n",
      "Withdrawal successful. Remaining balance: 300\n"
     ]
    }
   ],
   "source": [
    "# Custom Exception\n",
    "class InsufficientBalanceError(Exception):\n",
    "    def __init__(self, message=\"Insufficient balance for the requested withdrawal.\"):\n",
    "        super().__init__(message)\n",
    "\n",
    "# BankAccount class\n",
    "class BankAccount:\n",
    "    def __init__(self, balance):\n",
    "        self.balance = balance\n",
    "\n",
    "    def withdraw(self, amount):\n",
    "        if amount > self.balance:\n",
    "            raise InsufficientBalanceError(\n",
    "                f\"Cannot withdraw {amount}. Available balance is {self.balance}.\"\n",
    "            )\n",
    "        self.balance -= amount\n",
    "        print(f\"Withdrawal successful. Remaining balance: {self.balance}\")\n",
    "\n",
    "# Create a bank account with an initial balance\n",
    "account = BankAccount(500)\n",
    "\n",
    "# Try to withdraw an amount greater than the balance\n",
    "try:\n",
    "    account.withdraw(700)\n",
    "except InsufficientBalanceError as e:\n",
    "    print(\"Error:\", e)\n",
    "\n",
    "# Try a valid withdrawal\n",
    "try:\n",
    "    account.withdraw(200)\n",
    "except InsufficientBalanceError as e:\n",
    "    print(\"Error:\", e)\n"
   ]
  },
  {
   "cell_type": "code",
   "execution_count": 25,
   "id": "f8465604",
   "metadata": {},
   "outputs": [
    {
     "name": "stdout",
     "output_type": "stream",
     "text": [
      "Final Result: 6.0\n"
     ]
    }
   ],
   "source": [
    "# Calculator class\n",
    "class Calculator:\n",
    "    def __init__(self, value=0):\n",
    "        self.value = value\n",
    "\n",
    "    def add(self, number):\n",
    "        self.value += number\n",
    "        return self  # Enable chaining\n",
    "\n",
    "    def subtract(self, number):\n",
    "        self.value -= number\n",
    "        return self\n",
    "\n",
    "    def multiply(self, number):\n",
    "        self.value *= number\n",
    "        return self\n",
    "\n",
    "    def divide(self, number):\n",
    "        if number != 0:\n",
    "            self.value /= number\n",
    "        else:\n",
    "            print(\"Error: Division by zero\")\n",
    "        return self\n",
    "\n",
    "    def get_result(self):\n",
    "        return self.value\n",
    "\n",
    "# Example usage with method chaining\n",
    "calc = Calculator()\n",
    "result = calc.add(10).subtract(2).multiply(3).divide(4).get_result()\n",
    "\n",
    "print(\"Final Result:\", result)\n"
   ]
  }
 ],
 "metadata": {
  "kernelspec": {
   "display_name": "venv",
   "language": "python",
   "name": "python3"
  },
  "language_info": {
   "codemirror_mode": {
    "name": "ipython",
    "version": 3
   },
   "file_extension": ".py",
   "mimetype": "text/x-python",
   "name": "python",
   "nbconvert_exporter": "python",
   "pygments_lexer": "ipython3",
   "version": "3.10.0"
  }
 },
 "nbformat": 4,
 "nbformat_minor": 5
}
